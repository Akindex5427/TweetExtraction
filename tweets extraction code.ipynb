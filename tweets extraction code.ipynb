{
 "cells": [
  {
   "cell_type": "code",
   "execution_count": 1,
   "metadata": {},
   "outputs": [
    {
     "name": "stderr",
     "output_type": "stream",
     "text": [
      "INFO: {'User-Agent': 'Opera/9.80 (X11; Linux i686; Ubuntu/14.10) Presto/2.12.388 Version/12.16'}\n"
     ]
    }
   ],
   "source": [
    "from twitterscraper import query_tweets\n",
    "import datetime as dt"
   ]
  },
  {
   "cell_type": "code",
   "execution_count": 2,
   "metadata": {},
   "outputs": [],
   "source": [
    "import pandas as pd"
   ]
  },
  {
   "cell_type": "code",
   "execution_count": 3,
   "metadata": {},
   "outputs": [],
   "source": [
    "begin_date = dt.date(2020,4,30)\n",
    "end_date = dt.date(2020,5,1)"
   ]
  },
  {
   "cell_type": "code",
   "execution_count": 4,
   "metadata": {},
   "outputs": [],
   "source": [
    "limit = 1000\n",
    "lang = 'english'\n",
    "#user = @NCDCgov"
   ]
  },
  {
   "cell_type": "code",
   "execution_count": 5,
   "metadata": {},
   "outputs": [
    {
     "name": "stderr",
     "output_type": "stream",
     "text": [
      "INFO: queries: ['NCDCgov since:2020-04-30 until:2020-05-01']\n",
      "INFO: Got 1008 tweets (1008 new).\n"
     ]
    }
   ],
   "source": [
    "tweets = query_tweets(\"NCDCgov\", begindate = begin_date, enddate = end_date, limit = limit, lang = lang)"
   ]
  },
  {
   "cell_type": "code",
   "execution_count": null,
   "metadata": {},
   "outputs": [],
   "source": [
    "df =pd.DataFrame(t.__dict__ for t in tweets)\n",
    "df"
   ]
  },
  {
   "cell_type": "code",
   "execution_count": null,
   "metadata": {},
   "outputs": [
    {
     "name": "stderr",
     "output_type": "stream",
     "text": [
      "INFO: queries: ['tweets.csv since:2006-03-21 until:2006-12-03', 'tweets.csv since:2006-12-03 until:2007-08-18', 'tweets.csv since:2007-08-18 until:2008-05-02', 'tweets.csv since:2008-05-02 until:2009-01-15', 'tweets.csv since:2009-01-15 until:2009-09-29', 'tweets.csv since:2009-09-29 until:2010-06-14', 'tweets.csv since:2010-06-14 until:2011-02-27', 'tweets.csv since:2011-02-27 until:2011-11-12', 'tweets.csv since:2011-11-12 until:2012-07-26', 'tweets.csv since:2012-07-26 until:2013-04-10', 'tweets.csv since:2013-04-10 until:2013-12-24', 'tweets.csv since:2013-12-24 until:2014-09-08', 'tweets.csv since:2014-09-08 until:2015-05-23', 'tweets.csv since:2015-05-23 until:2016-02-05', 'tweets.csv since:2016-02-05 until:2016-10-20', 'tweets.csv since:2016-10-20 until:2017-07-05', 'tweets.csv since:2017-07-05 until:2018-03-19', 'tweets.csv since:2018-03-19 until:2018-12-02', 'tweets.csv since:2018-12-02 until:2019-08-17', 'tweets.csv since:2019-08-17 until:2020-05-01']\n",
      "INFO: Got 2 tweets (2 new).\n",
      "INFO: Got 4 tweets (2 new).\n",
      "INFO: Got 69 tweets (65 new).\n",
      "INFO: Got 85 tweets (16 new).\n",
      "INFO: Got 198 tweets (113 new).\n",
      "INFO: Got 295 tweets (97 new).\n",
      "INFO: Got 295 tweets (0 new).\n",
      "INFO: Got 295 tweets (0 new).\n"
     ]
    }
   ],
   "source": [
    "df = query_tweets('tweets.csv')"
   ]
  },
  {
   "cell_type": "code",
   "execution_count": null,
   "metadata": {},
   "outputs": [],
   "source": [
    "df = pd.DataFrame('tweets.csv')"
   ]
  },
  {
   "cell_type": "code",
   "execution_count": null,
   "metadata": {},
   "outputs": [],
   "source": [
    "tweets.to_csv(\"2tweets.csv\")"
   ]
  },
  {
   "cell_type": "code",
   "execution_count": null,
   "metadata": {},
   "outputs": [],
   "source": [
    "df = tweets('3tweets.csv')"
   ]
  },
  {
   "cell_type": "code",
   "execution_count": null,
   "metadata": {},
   "outputs": [],
   "source": [
    "df.to_csv (r'C:/Users/Akinde Fisayo.C.B/4tweets.csv', index = False, header=True)"
   ]
  },
  {
   "cell_type": "code",
   "execution_count": null,
   "metadata": {},
   "outputs": [],
   "source": []
  }
 ],
 "metadata": {
  "kernelspec": {
   "display_name": "Python 3",
   "language": "python",
   "name": "python3"
  },
  "language_info": {
   "codemirror_mode": {
    "name": "ipython",
    "version": 3
   },
   "file_extension": ".py",
   "mimetype": "text/x-python",
   "name": "python",
   "nbconvert_exporter": "python",
   "pygments_lexer": "ipython3",
   "version": "3.7.3"
  }
 },
 "nbformat": 4,
 "nbformat_minor": 2
}
